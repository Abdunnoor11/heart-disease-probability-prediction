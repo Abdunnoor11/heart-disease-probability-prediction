{
 "cells": [
  {
   "cell_type": "markdown",
   "metadata": {},
   "source": [
    "<h1 style='text-align:center'>Predicting the probability of heart disease: A study based on personal keys<h1>\n",
    "\n",
    "## Table of Contents\n",
    "* [Introduction](#chapter1)\n",
    "    * [Where is this data set coming from?](#section_1_1)\n",
    "    * [Dataset Link](#section_1_2)\n",
    "* [Objective](#chapter2)\n",
    "* [Import Libraries & Data Collection](#chapter3)\n",
    "* [Split Data](#chapter4)    \n",
    "* [Data Exploration](#chapter5)    \n",
    "    * [Missing Data](#section_5_1)\n",
    "    * [Explanation of column name](#section_5_2)\n",
    "    * [Numerical Features Analysis](#section_5_3)\n",
    "    * [Categorical Features Analysis](#section_5_4)\n",
    "* [Data Preparation](#chapter6)    \n",
    "    * [Remove Outliers](#section_6_1)\n",
    "    * [Transform Numerical Data](#section_6_2)\n",
    "    * [Transform Categorical Data](#section_6_3)\n",
    "* [Model Train & Select](#chapter7)                    \n",
    "    * [Cross-Validation on Selected model](#section_8_1)\n",
    "    * [Tune Hyperparameters for Model](#section_8_2)\n",
    "* [Model Save](#chapter9)                "
   ]
  },
  {
   "cell_type": "markdown",
   "metadata": {},
   "source": [
    "## Introduction  <a class=\"anchor\" id=\"chapter1\"></a>\n",
    "<p>According to the CDC, heart disease is one of the leading causes of death for people of most races in the US (African Americans, American Indians and Alaska Natives, and white people). About half of all Americans (47%) have at least 1 of 3 key risk factors for heart disease: high blood pressure, high cholesterol, and smoking. Other key indicator include diabetic status, obesity (high BMI), not getting enough physical activity or drinking too much alcohol. Detecting and preventing the factors that have the greatest impact on heart disease is very important in healthcare. Computational developments, in turn, allow the application of machine learning methods to detect \"patterns\" from the data that can predict a patient's condition.</p>\n",
    "\n",
    "#### Where is this data set coming from? <a class=\"anchor\" id=\"section_1_1\"></a>\n",
    "<p>Originally, the dataset come from the CDC and is a major part of the Behavioral Risk Factor Surveillance System (BRFSS), which conducts annual telephone surveys to gather data on the health status of U.S. residents. As the CDC describes: \"Established in 1984 with 15 states, BRFSS now collects data in all 50 states as well as the District of Columbia and three U.S. territories. BRFSS completes more than 400,000 adult interviews each year, making it the largest continuously conducted health survey system in the world.\". The most recent dataset (as of February 15, 2022) includes data from 2020. It consists of 401,958 rows and 279 columns. The vast majority of columns are questions asked to respondents about their health status, such as \"Do you have serious difficulty walking or climbing stairs?\" or \"Have you smoked at least 100 cigarettes in your entire life? [Note: 5 packs = 100 cigarettes]\".</p>\n",
    "\n",
    "#### Dataset link <a class=\"anchor\" id=\"section_1_2\"></a> \n",
    "<a href='https://www.kaggle.com/datasets/kamilpytlak/personal-key-indicators-of-heart-disease'>https://www.kaggle.com/datasets/kamilpytlak/personal-key-indicators-of-heart-disease</a>\n"
   ]
  },
  {
   "cell_type": "markdown",
   "metadata": {},
   "source": [
    "## Objective <a class=\"anchor\" id=\"chapter2\"></a> \n",
    "\n",
    "<p>To build a system using machine learning where any user gets the probabilities for heart disease itself by providing their personal keys.</p>"
   ]
  },
  {
   "cell_type": "markdown",
   "metadata": {},
   "source": [
    "## Import Libraries & Data Collection  <a class=\"anchor\" id=\"chapter3\"></a>\n"
   ]
  },
  {
   "cell_type": "code",
   "execution_count": 4,
   "metadata": {
    "_cell_guid": "b1076dfc-b9ad-4769-8c92-a6c4dae69d19",
    "_uuid": "8f2839f25d086af736a60e9eeb907d3b93b6e0e5",
    "execution": {
     "iopub.execute_input": "2022-05-30T15:38:04.918179Z",
     "iopub.status.busy": "2022-05-30T15:38:04.917527Z",
     "iopub.status.idle": "2022-05-30T15:38:08.581013Z",
     "shell.execute_reply": "2022-05-30T15:38:08.580291Z",
     "shell.execute_reply.started": "2022-05-30T15:38:04.918142Z"
    }
   },
   "outputs": [],
   "source": [
    "import numpy as np\n",
    "import pandas as pd\n",
    "import matplotlib.pyplot as plt\n",
    "import seaborn as sns\n",
    "import plotly.express as px\n",
    "import plotly.graph_objects as go\n",
    "from plotly.subplots import make_subplots\n",
    "from sklearn.model_selection import train_test_split, GridSearchCV, cross_val_score, cross_validate, RepeatedStratifiedKFold\n",
    "from sklearn.preprocessing import LabelEncoder, StandardScaler, KBinsDiscretizer, MinMaxScaler\n",
    "from sklearn.feature_selection import SelectKBest, chi2\n",
    "from sklearn.metrics import accuracy_score\n",
    "from sklearn.ensemble import GradientBoostingClassifier, RandomForestClassifier\n",
    "from sklearn.tree import DecisionTreeClassifier \n",
    "from sklearn.linear_model import LogisticRegression\n",
    "from sklearn.pipeline import Pipeline\n",
    "from sklearn.neural_network import MLPClassifier\n",
    "from sklearn.neighbors import KNeighborsClassifier\n",
    "# import xgboost as x"
   ]
  },
  {
   "cell_type": "code",
   "execution_count": 5,
   "metadata": {
    "execution": {
     "iopub.execute_input": "2022-05-30T16:12:22.705507Z",
     "iopub.status.busy": "2022-05-30T16:12:22.705253Z",
     "iopub.status.idle": "2022-05-30T16:12:23.219929Z",
     "shell.execute_reply": "2022-05-30T16:12:23.219155Z",
     "shell.execute_reply.started": "2022-05-30T16:12:22.705479Z"
    }
   },
   "outputs": [
    {
     "name": "stdout",
     "output_type": "stream",
     "text": [
      "This dataset have 18 columns\n",
      "and 319795 rows\n"
     ]
    }
   ],
   "source": [
    "data = pd.read_csv('heart_2020_cleaned.csv')\n",
    "print(f'This dataset have {data.shape[1]} columns\\nand {data.shape[0]} rows')"
   ]
  },
  {
   "cell_type": "code",
   "execution_count": 6,
   "metadata": {
    "execution": {
     "iopub.execute_input": "2022-05-30T15:38:09.425703Z",
     "iopub.status.busy": "2022-05-30T15:38:09.424882Z",
     "iopub.status.idle": "2022-05-30T15:38:09.456178Z",
     "shell.execute_reply": "2022-05-30T15:38:09.455512Z",
     "shell.execute_reply.started": "2022-05-30T15:38:09.425666Z"
    },
    "scrolled": true
   },
   "outputs": [
    {
     "data": {
      "text/html": [
       "<div>\n",
       "<style scoped>\n",
       "    .dataframe tbody tr th:only-of-type {\n",
       "        vertical-align: middle;\n",
       "    }\n",
       "\n",
       "    .dataframe tbody tr th {\n",
       "        vertical-align: top;\n",
       "    }\n",
       "\n",
       "    .dataframe thead th {\n",
       "        text-align: right;\n",
       "    }\n",
       "</style>\n",
       "<table border=\"1\" class=\"dataframe\">\n",
       "  <thead>\n",
       "    <tr style=\"text-align: right;\">\n",
       "      <th></th>\n",
       "      <th>HeartDisease</th>\n",
       "      <th>BMI</th>\n",
       "      <th>Smoking</th>\n",
       "      <th>AlcoholDrinking</th>\n",
       "      <th>Stroke</th>\n",
       "      <th>PhysicalHealth</th>\n",
       "      <th>MentalHealth</th>\n",
       "      <th>DiffWalking</th>\n",
       "      <th>Sex</th>\n",
       "      <th>AgeCategory</th>\n",
       "      <th>Race</th>\n",
       "      <th>Diabetic</th>\n",
       "      <th>PhysicalActivity</th>\n",
       "      <th>GenHealth</th>\n",
       "      <th>SleepTime</th>\n",
       "      <th>Asthma</th>\n",
       "      <th>KidneyDisease</th>\n",
       "      <th>SkinCancer</th>\n",
       "    </tr>\n",
       "  </thead>\n",
       "  <tbody>\n",
       "    <tr>\n",
       "      <th>0</th>\n",
       "      <td>No</td>\n",
       "      <td>16.60</td>\n",
       "      <td>Yes</td>\n",
       "      <td>No</td>\n",
       "      <td>No</td>\n",
       "      <td>3.0</td>\n",
       "      <td>30.0</td>\n",
       "      <td>No</td>\n",
       "      <td>Female</td>\n",
       "      <td>55-59</td>\n",
       "      <td>White</td>\n",
       "      <td>Yes</td>\n",
       "      <td>Yes</td>\n",
       "      <td>Very good</td>\n",
       "      <td>5.0</td>\n",
       "      <td>Yes</td>\n",
       "      <td>No</td>\n",
       "      <td>Yes</td>\n",
       "    </tr>\n",
       "    <tr>\n",
       "      <th>1</th>\n",
       "      <td>No</td>\n",
       "      <td>20.34</td>\n",
       "      <td>No</td>\n",
       "      <td>No</td>\n",
       "      <td>Yes</td>\n",
       "      <td>0.0</td>\n",
       "      <td>0.0</td>\n",
       "      <td>No</td>\n",
       "      <td>Female</td>\n",
       "      <td>80 or older</td>\n",
       "      <td>White</td>\n",
       "      <td>No</td>\n",
       "      <td>Yes</td>\n",
       "      <td>Very good</td>\n",
       "      <td>7.0</td>\n",
       "      <td>No</td>\n",
       "      <td>No</td>\n",
       "      <td>No</td>\n",
       "    </tr>\n",
       "    <tr>\n",
       "      <th>2</th>\n",
       "      <td>No</td>\n",
       "      <td>26.58</td>\n",
       "      <td>Yes</td>\n",
       "      <td>No</td>\n",
       "      <td>No</td>\n",
       "      <td>20.0</td>\n",
       "      <td>30.0</td>\n",
       "      <td>No</td>\n",
       "      <td>Male</td>\n",
       "      <td>65-69</td>\n",
       "      <td>White</td>\n",
       "      <td>Yes</td>\n",
       "      <td>Yes</td>\n",
       "      <td>Fair</td>\n",
       "      <td>8.0</td>\n",
       "      <td>Yes</td>\n",
       "      <td>No</td>\n",
       "      <td>No</td>\n",
       "    </tr>\n",
       "    <tr>\n",
       "      <th>3</th>\n",
       "      <td>No</td>\n",
       "      <td>24.21</td>\n",
       "      <td>No</td>\n",
       "      <td>No</td>\n",
       "      <td>No</td>\n",
       "      <td>0.0</td>\n",
       "      <td>0.0</td>\n",
       "      <td>No</td>\n",
       "      <td>Female</td>\n",
       "      <td>75-79</td>\n",
       "      <td>White</td>\n",
       "      <td>No</td>\n",
       "      <td>No</td>\n",
       "      <td>Good</td>\n",
       "      <td>6.0</td>\n",
       "      <td>No</td>\n",
       "      <td>No</td>\n",
       "      <td>Yes</td>\n",
       "    </tr>\n",
       "    <tr>\n",
       "      <th>4</th>\n",
       "      <td>No</td>\n",
       "      <td>23.71</td>\n",
       "      <td>No</td>\n",
       "      <td>No</td>\n",
       "      <td>No</td>\n",
       "      <td>28.0</td>\n",
       "      <td>0.0</td>\n",
       "      <td>Yes</td>\n",
       "      <td>Female</td>\n",
       "      <td>40-44</td>\n",
       "      <td>White</td>\n",
       "      <td>No</td>\n",
       "      <td>Yes</td>\n",
       "      <td>Very good</td>\n",
       "      <td>8.0</td>\n",
       "      <td>No</td>\n",
       "      <td>No</td>\n",
       "      <td>No</td>\n",
       "    </tr>\n",
       "  </tbody>\n",
       "</table>\n",
       "</div>"
      ],
      "text/plain": [
       "  HeartDisease    BMI Smoking AlcoholDrinking Stroke  PhysicalHealth  \\\n",
       "0           No  16.60     Yes              No     No             3.0   \n",
       "1           No  20.34      No              No    Yes             0.0   \n",
       "2           No  26.58     Yes              No     No            20.0   \n",
       "3           No  24.21      No              No     No             0.0   \n",
       "4           No  23.71      No              No     No            28.0   \n",
       "\n",
       "   MentalHealth DiffWalking     Sex  AgeCategory   Race Diabetic  \\\n",
       "0          30.0          No  Female        55-59  White      Yes   \n",
       "1           0.0          No  Female  80 or older  White       No   \n",
       "2          30.0          No    Male        65-69  White      Yes   \n",
       "3           0.0          No  Female        75-79  White       No   \n",
       "4           0.0         Yes  Female        40-44  White       No   \n",
       "\n",
       "  PhysicalActivity  GenHealth  SleepTime Asthma KidneyDisease SkinCancer  \n",
       "0              Yes  Very good        5.0    Yes            No        Yes  \n",
       "1              Yes  Very good        7.0     No            No         No  \n",
       "2              Yes       Fair        8.0    Yes            No         No  \n",
       "3               No       Good        6.0     No            No        Yes  \n",
       "4              Yes  Very good        8.0     No            No         No  "
      ]
     },
     "execution_count": 6,
     "metadata": {},
     "output_type": "execute_result"
    }
   ],
   "source": [
    "data.head()"
   ]
  },
  {
   "cell_type": "code",
   "execution_count": 7,
   "metadata": {
    "execution": {
     "iopub.execute_input": "2022-05-30T15:38:11.564448Z",
     "iopub.status.busy": "2022-05-30T15:38:11.564188Z",
     "iopub.status.idle": "2022-05-30T15:38:11.984856Z",
     "shell.execute_reply": "2022-05-30T15:38:11.984125Z",
     "shell.execute_reply.started": "2022-05-30T15:38:11.564419Z"
    },
    "scrolled": true
   },
   "outputs": [
    {
     "name": "stdout",
     "output_type": "stream",
     "text": [
      "<class 'pandas.core.frame.DataFrame'>\n",
      "RangeIndex: 319795 entries, 0 to 319794\n",
      "Data columns (total 18 columns):\n",
      " #   Column            Non-Null Count   Dtype  \n",
      "---  ------            --------------   -----  \n",
      " 0   HeartDisease      319795 non-null  object \n",
      " 1   BMI               319795 non-null  float64\n",
      " 2   Smoking           319795 non-null  object \n",
      " 3   AlcoholDrinking   319795 non-null  object \n",
      " 4   Stroke            319795 non-null  object \n",
      " 5   PhysicalHealth    319795 non-null  float64\n",
      " 6   MentalHealth      319795 non-null  float64\n",
      " 7   DiffWalking       319795 non-null  object \n",
      " 8   Sex               319795 non-null  object \n",
      " 9   AgeCategory       319795 non-null  object \n",
      " 10  Race              319795 non-null  object \n",
      " 11  Diabetic          319795 non-null  object \n",
      " 12  PhysicalActivity  319795 non-null  object \n",
      " 13  GenHealth         319795 non-null  object \n",
      " 14  SleepTime         319795 non-null  float64\n",
      " 15  Asthma            319795 non-null  object \n",
      " 16  KidneyDisease     319795 non-null  object \n",
      " 17  SkinCancer        319795 non-null  object \n",
      "dtypes: float64(4), object(14)\n",
      "memory usage: 43.9+ MB\n"
     ]
    }
   ],
   "source": [
    "data.info()"
   ]
  },
  {
   "cell_type": "markdown",
   "metadata": {},
   "source": [
    "<a class=\"anchor\" id=\"chapter4\"></a> <h2 style='text-align: center'>Split Data</h2>"
   ]
  },
  {
   "cell_type": "code",
   "execution_count": 8,
   "metadata": {
    "execution": {
     "iopub.execute_input": "2022-05-30T16:09:13.314082Z",
     "iopub.status.busy": "2022-05-30T16:09:13.313538Z",
     "iopub.status.idle": "2022-05-30T16:09:13.674149Z",
     "shell.execute_reply": "2022-05-30T16:09:13.673399Z",
     "shell.execute_reply.started": "2022-05-30T16:09:13.314044Z"
    }
   },
   "outputs": [],
   "source": [
    "# Remove duplicates from dataset\n",
    "data = data.drop_duplicates()"
   ]
  },
  {
   "cell_type": "markdown",
   "metadata": {},
   "source": [
    "Let's dataset split train, validation, and test set."
   ]
  },
  {
   "cell_type": "code",
   "execution_count": 164,
   "metadata": {
    "execution": {
     "iopub.execute_input": "2022-05-30T16:12:30.241288Z",
     "iopub.status.busy": "2022-05-30T16:12:30.241034Z",
     "iopub.status.idle": "2022-05-30T16:12:30.83686Z",
     "shell.execute_reply": "2022-05-30T16:12:30.83609Z",
     "shell.execute_reply.started": "2022-05-30T16:12:30.241261Z"
    }
   },
   "outputs": [
    {
     "name": "stdout",
     "output_type": "stream",
     "text": [
      "\n",
      "Before split: (301717, 18)\n",
      "\n",
      "After split train: (241373, 18)\n",
      "\n",
      "After split test: (60344, 18)\n",
      "\n",
      "\n",
      "Now, let's split the train set into train and validation.\n",
      "\n",
      "After split train: (193098, 18)\n",
      "\n",
      "After split validation: (48275, 18)\n"
     ]
    }
   ],
   "source": [
    "print(f\"\\nBefore split: {data.shape}\")\n",
    "\n",
    "train, test = train_test_split(data, test_size = 0.2, stratify=data[\"HeartDisease\"])\n",
    "\n",
    "print(f\"\\nAfter split train: {train.shape}\")\n",
    "print(f\"\\nAfter split test: {test.shape}\")\n",
    "\n",
    "print(\"\\n\\nNow, let's split the train set into train and validation.\")\n",
    "train, validation = train_test_split(train, test_size = 0.2)\n",
    "print(f\"\\nAfter split train: {train.shape}\")\n",
    "print(f\"\\nAfter split validation: {validation.shape}\")"
   ]
  },
  {
   "cell_type": "markdown",
   "metadata": {},
   "source": [
    "<a class=\"anchor\" id=\"chapter5\"></a>  <h2 style='text-align: center'>Data Exploration</h2> "
   ]
  },
  {
   "cell_type": "markdown",
   "metadata": {},
   "source": [
    "#### Missing Data <a class=\"anchor\" id=\"section_5_1\"></a>"
   ]
  },
  {
   "cell_type": "code",
   "execution_count": 11,
   "metadata": {},
   "outputs": [
    {
     "name": "stdout",
     "output_type": "stream",
     "text": [
      "The number of data that are missing from the dataset: 0\n"
     ]
    }
   ],
   "source": [
    "print('The number of data that are missing from the dataset:',data.isnull().sum().sum())"
   ]
  },
  {
   "cell_type": "markdown",
   "metadata": {},
   "source": [
    "#### Explanation of column name <a class=\"anchor\" id=\"section_5_2\"></a>\n",
    "\n",
    "1. HeartDisease : Respondents that have ever reported having coronary heart disease (CHD) or myocardial infarction (MI).\n",
    "2. BMI : Body Mass Index (BMI).\n",
    "3. Smoking : Have you smoked at least 100 cigarettes in your entire life? ( The answer Yes or No ).\n",
    "4. AlcoholDrinking : Heavy drinkers (adult men having more than 14 drinks per week and adult women having more than 7 drinks per week\n",
    "5. Stroke : (Ever told) (you had) a stroke?\n",
    "6. PhysicalHealth : Now thinking about your physical health, which includes physical illness and injury, for how many days during the past 30 days was your physical health not good? (0-30 days).\n",
    "7. MentalHealth : Thinking about your mental health, for how many days during the past 30 days was your mental health not good? (0-30 days).\n",
    "8. DiffWalking : Do you have serious difficulty walking or climbing stairs?\n",
    "9. Sex : Are you male or female?\n",
    "10. AgeCategory: Fourteen-level age category.\n",
    "11. Race : Imputed race/ethnicity value.\n",
    "12. Diabetic : (Ever told) (you had) diabetes?\n",
    "13. PhysicalActivity : Adults who reported doing physical activity or exercise during the past 30 days other than their regular job.\n",
    "14. GenHealth : Would you say that in general your health is...\n",
    "15. SleepTime : On average, how many hours of sleep do you get in a 24-hour period?\n",
    "16. Asthma : (Ever told) (you had) asthma?\n",
    "17. KidneyDisease : Not including kidney stones, bladder infection or incontinence, were you ever told you had kidney disease?\n",
    "18. SkinCancer : (Ever told) (you had) skin cancer?"
   ]
  },
  {
   "cell_type": "markdown",
   "metadata": {},
   "source": [
    "Number of each unique values in columns."
   ]
  },
  {
   "cell_type": "code",
   "execution_count": 12,
   "metadata": {},
   "outputs": [
    {
     "data": {
      "text/plain": [
       "HeartDisease           2\n",
       "BMI                 3283\n",
       "Smoking                2\n",
       "AlcoholDrinking        2\n",
       "Stroke                 2\n",
       "PhysicalHealth        31\n",
       "MentalHealth          31\n",
       "DiffWalking            2\n",
       "Sex                    2\n",
       "AgeCategory           13\n",
       "Race                   6\n",
       "Diabetic               4\n",
       "PhysicalActivity       2\n",
       "GenHealth              5\n",
       "SleepTime             24\n",
       "Asthma                 2\n",
       "KidneyDisease          2\n",
       "SkinCancer             2\n",
       "dtype: int64"
      ]
     },
     "execution_count": 12,
     "metadata": {},
     "output_type": "execute_result"
    }
   ],
   "source": [
    "train.nunique()"
   ]
  },
  {
   "cell_type": "markdown",
   "metadata": {},
   "source": [
    "#### Numerical Features Analysis.  <a class=\"anchor\" id=\"section_5_3\"></a>"
   ]
  },
  {
   "cell_type": "code",
   "execution_count": 13,
   "metadata": {},
   "outputs": [
    {
     "data": {
      "text/html": [
       "<style type=\"text/css\">\n",
       "#T_31920_row0_col0 {\n",
       "  background-color: #fec965;\n",
       "  color: #000000;\n",
       "}\n",
       "#T_31920_row0_col1 {\n",
       "  background-color: #fff5b5;\n",
       "  color: #000000;\n",
       "}\n",
       "#T_31920_row0_col2 {\n",
       "  background-color: #ffeda0;\n",
       "  color: #000000;\n",
       "}\n",
       "#T_31920_row0_col3, #T_31920_row3_col6 {\n",
       "  background-color: #fed774;\n",
       "  color: #000000;\n",
       "}\n",
       "#T_31920_row0_col4 {\n",
       "  background-color: #fecc68;\n",
       "  color: #000000;\n",
       "}\n",
       "#T_31920_row0_col5 {\n",
       "  background-color: #febe59;\n",
       "  color: #000000;\n",
       "}\n",
       "#T_31920_row0_col6 {\n",
       "  background-color: #800026;\n",
       "  color: #f1f1f1;\n",
       "}\n",
       "#T_31920_row1_col0 {\n",
       "  background-color: #fffac0;\n",
       "  color: #000000;\n",
       "}\n",
       "#T_31920_row1_col1, #T_31920_row2_col1 {\n",
       "  background-color: #fff3ae;\n",
       "  color: #000000;\n",
       "}\n",
       "#T_31920_row1_col2, #T_31920_row1_col3, #T_31920_row1_col4, #T_31920_row2_col2, #T_31920_row2_col3, #T_31920_row2_col4 {\n",
       "  background-color: #ffffcc;\n",
       "  color: #000000;\n",
       "}\n",
       "#T_31920_row1_col5 {\n",
       "  background-color: #fffcc5;\n",
       "  color: #000000;\n",
       "}\n",
       "#T_31920_row1_col6, #T_31920_row2_col6 {\n",
       "  background-color: #fec45f;\n",
       "  color: #000000;\n",
       "}\n",
       "#T_31920_row2_col0 {\n",
       "  background-color: #fff9bd;\n",
       "  color: #000000;\n",
       "}\n",
       "#T_31920_row2_col5 {\n",
       "  background-color: #fff9be;\n",
       "  color: #000000;\n",
       "}\n",
       "#T_31920_row3_col0, #T_31920_row3_col4 {\n",
       "  background-color: #fff4b2;\n",
       "  color: #000000;\n",
       "}\n",
       "#T_31920_row3_col1 {\n",
       "  background-color: #fffdc8;\n",
       "  color: #000000;\n",
       "}\n",
       "#T_31920_row3_col2 {\n",
       "  background-color: #fffec9;\n",
       "  color: #000000;\n",
       "}\n",
       "#T_31920_row3_col3 {\n",
       "  background-color: #fff6b6;\n",
       "  color: #000000;\n",
       "}\n",
       "#T_31920_row3_col5 {\n",
       "  background-color: #fff3af;\n",
       "  color: #000000;\n",
       "}\n",
       "</style>\n",
       "<table id=\"T_31920\">\n",
       "  <thead>\n",
       "    <tr>\n",
       "      <th class=\"blank level0\" >&nbsp;</th>\n",
       "      <th id=\"T_31920_level0_col0\" class=\"col_heading level0 col0\" >mean</th>\n",
       "      <th id=\"T_31920_level0_col1\" class=\"col_heading level0 col1\" >std</th>\n",
       "      <th id=\"T_31920_level0_col2\" class=\"col_heading level0 col2\" >min</th>\n",
       "      <th id=\"T_31920_level0_col3\" class=\"col_heading level0 col3\" >25%</th>\n",
       "      <th id=\"T_31920_level0_col4\" class=\"col_heading level0 col4\" >50%</th>\n",
       "      <th id=\"T_31920_level0_col5\" class=\"col_heading level0 col5\" >75%</th>\n",
       "      <th id=\"T_31920_level0_col6\" class=\"col_heading level0 col6\" >max</th>\n",
       "    </tr>\n",
       "  </thead>\n",
       "  <tbody>\n",
       "    <tr>\n",
       "      <th id=\"T_31920_level0_row0\" class=\"row_heading level0 row0\" >BMI</th>\n",
       "      <td id=\"T_31920_row0_col0\" class=\"data row0 col0\" >28.462609</td>\n",
       "      <td id=\"T_31920_row0_col1\" class=\"data row0 col1\" >6.473677</td>\n",
       "      <td id=\"T_31920_row0_col2\" class=\"data row0 col2\" >12.020000</td>\n",
       "      <td id=\"T_31920_row0_col3\" class=\"data row0 col3\" >24.030000</td>\n",
       "      <td id=\"T_31920_row0_col4\" class=\"data row0 col4\" >27.410000</td>\n",
       "      <td id=\"T_31920_row0_col5\" class=\"data row0 col5\" >31.660000</td>\n",
       "      <td id=\"T_31920_row0_col6\" class=\"data row0 col6\" >93.970000</td>\n",
       "    </tr>\n",
       "    <tr>\n",
       "      <th id=\"T_31920_level0_row1\" class=\"row_heading level0 row1\" >PhysicalHealth</th>\n",
       "      <td id=\"T_31920_row1_col0\" class=\"data row1 col0\" >3.570146</td>\n",
       "      <td id=\"T_31920_row1_col1\" class=\"data row1 col1\" >8.141912</td>\n",
       "      <td id=\"T_31920_row1_col2\" class=\"data row1 col2\" >0.000000</td>\n",
       "      <td id=\"T_31920_row1_col3\" class=\"data row1 col3\" >0.000000</td>\n",
       "      <td id=\"T_31920_row1_col4\" class=\"data row1 col4\" >0.000000</td>\n",
       "      <td id=\"T_31920_row1_col5\" class=\"data row1 col5\" >2.000000</td>\n",
       "      <td id=\"T_31920_row1_col6\" class=\"data row1 col6\" >30.000000</td>\n",
       "    </tr>\n",
       "    <tr>\n",
       "      <th id=\"T_31920_level0_row2\" class=\"row_heading level0 row2\" >MentalHealth</th>\n",
       "      <td id=\"T_31920_row2_col0\" class=\"data row2 col0\" >4.121275</td>\n",
       "      <td id=\"T_31920_row2_col1\" class=\"data row2 col1\" >8.134241</td>\n",
       "      <td id=\"T_31920_row2_col2\" class=\"data row2 col2\" >0.000000</td>\n",
       "      <td id=\"T_31920_row2_col3\" class=\"data row2 col3\" >0.000000</td>\n",
       "      <td id=\"T_31920_row2_col4\" class=\"data row2 col4\" >0.000000</td>\n",
       "      <td id=\"T_31920_row2_col5\" class=\"data row2 col5\" >4.000000</td>\n",
       "      <td id=\"T_31920_row2_col6\" class=\"data row2 col6\" >30.000000</td>\n",
       "    </tr>\n",
       "    <tr>\n",
       "      <th id=\"T_31920_level0_row3\" class=\"row_heading level0 row3\" >SleepTime</th>\n",
       "      <td id=\"T_31920_row3_col0\" class=\"data row3 col0\" >7.082937</td>\n",
       "      <td id=\"T_31920_row3_col1\" class=\"data row3 col1\" >1.466878</td>\n",
       "      <td id=\"T_31920_row3_col2\" class=\"data row3 col2\" >1.000000</td>\n",
       "      <td id=\"T_31920_row3_col3\" class=\"data row3 col3\" >6.000000</td>\n",
       "      <td id=\"T_31920_row3_col4\" class=\"data row3 col4\" >7.000000</td>\n",
       "      <td id=\"T_31920_row3_col5\" class=\"data row3 col5\" >8.000000</td>\n",
       "      <td id=\"T_31920_row3_col6\" class=\"data row3 col6\" >24.000000</td>\n",
       "    </tr>\n",
       "  </tbody>\n",
       "</table>\n"
      ],
      "text/plain": [
       "<pandas.io.formats.style.Styler at 0x160238b2d00>"
      ]
     },
     "execution_count": 13,
     "metadata": {},
     "output_type": "execute_result"
    }
   ],
   "source": [
    "train.describe()[1:].T.style.background_gradient(cmap='YlOrRd', axis=None)"
   ]
  },
  {
   "cell_type": "code",
   "execution_count": 54,
   "metadata": {},
   "outputs": [
    {
     "data": {
      "image/png": "[encoded data removed]",
      "text/plain": [
       "<Figure size 1152x576 with 4 Axes>"
      ]
     },
     "metadata": {
      "needs_background": "light"
     },
     "output_type": "display_data"
    }
   ],
   "source": [
    "f, axes = plt.subplots(2, 2, figsize=(16,8))\n",
    "sns.boxplot(x=train[\"PhysicalHealth\"],  ax=axes[0,0], palette=[\"#8c1515\"])\n",
    "sns.boxplot(x=train[\"BMI\"],   ax=axes[0,1], palette=[\"#E98300\"])\n",
    "sns.boxplot(x=train[\"MentalHealth\"],   ax=axes[1,0], palette=[\"#009779\"])\n",
    "sns.boxplot(x=train[\"SleepTime\"],   ax=axes[1,1], palette=[\"#007C92\"])\n",
    "plt.show()"
   ]
  },
  {
   "cell_type": "markdown",
   "metadata": {},
   "source": [
    "Distribution of Numerical Features"
   ]
  },
  {
   "cell_type": "code",
   "execution_count": 123,
   "metadata": {},
   "outputs": [
    {
     "data": {
      "image/png": "[encoded data removed]",
      "text/plain": [
       "<Figure size 1152x576 with 4 Axes>"
      ]
     },
     "metadata": {},
     "output_type": "display_data"
    }
   ],
   "source": [
    "names = ['SleepTime', 'BMI', 'PhysicalHealth', 'MentalHealth']\n",
    "\n",
    "fig, axes = plt.subplots(2, 2, figsize=(16,8))\n",
    "\n",
    "for i,t in zip(names, axes.flatten()):\n",
    "    sns.kdeplot(x=i, data=train, ax=t, multiple=\"stack\",hue=\"HeartDisease\")\n",
    "    \n",
    "plt.show()"
   ]
  },
  {
   "cell_type": "markdown",
   "metadata": {},
   "source": [
    "#### Categorical Features Analysis.  <a class=\"anchor\" id=\"section_5_4\"></a>"
   ]
  },
  {
   "cell_type": "code",
   "execution_count": 113,
   "metadata": {},
   "outputs": [
    {
     "name": "stdout",
     "output_type": "stream",
     "text": [
      "\u001b[37;m\u001b[30;1mHeartDisease\t \u001b[34;1mNo: \u001b[35;1m91% \u001b[34;1mYes: \u001b[35;1m9%\n",
      "\u001b[48;5;254m\u001b[30;1mSmoking\t \u001b[34;1mNo: \u001b[35;1m58% \u001b[34;1mYes: \u001b[35;1m42%\n",
      "\u001b[37;m\u001b[30;1mAlcoholDrinking\t \u001b[34;1mNo: \u001b[35;1m93% \u001b[34;1mYes: \u001b[35;1m7%\n",
      "\u001b[48;5;254m\u001b[30;1mStroke\t \u001b[34;1mNo: \u001b[35;1m96% \u001b[34;1mYes: \u001b[35;1m4%\n",
      "\u001b[37;m\u001b[30;1mDiffWalking\t \u001b[34;1mNo: \u001b[35;1m85% \u001b[34;1mYes: \u001b[35;1m15%\n",
      "\u001b[48;5;254m\u001b[30;1mSex\t \u001b[34;1mFemale: \u001b[35;1m53% \u001b[34;1mMale: \u001b[35;1m47%\n",
      "\u001b[37;m\u001b[30;1mAgeCategory\t \u001b[34;1m65-69: \u001b[35;1m10% \u001b[34;1m60-64: \u001b[35;1m10% \u001b[34;1m70-74: \u001b[35;1m10% \u001b[34;1m55-59: \u001b[35;1m9% \u001b[34;1m50-54: \u001b[35;1m8% \u001b[34;1m80 or older: \u001b[35;1m8% \u001b[34;1m75-79: \u001b[35;1m7% \u001b[34;1m45-49: \u001b[35;1m7% \u001b[34;1m40-44: \u001b[35;1m7% \u001b[34;1m18-24: \u001b[35;1m7% \u001b[34;1m35-39: \u001b[35;1m6% \u001b[34;1m30-34: \u001b[35;1m6% \u001b[34;1m25-29: \u001b[35;1m5%\n",
      "\u001b[48;5;254m\u001b[30;1mRace\t \u001b[34;1mWhite: \u001b[35;1m76% \u001b[34;1mHispanic: \u001b[35;1m9% \u001b[34;1mBlack: \u001b[35;1m8% \u001b[34;1mOther: \u001b[35;1m4% \u001b[34;1mAsian: \u001b[35;1m3% \u001b[34;1mAmerican Indian/Alaskan Native: \u001b[35;1m2%\n",
      "\u001b[37;m\u001b[30;1mDiabetic\t \u001b[34;1mNo: \u001b[35;1m83% \u001b[34;1mYes: \u001b[35;1m14% \u001b[34;1mNo, borderline diabetes: \u001b[35;1m2% \u001b[34;1mYes (during pregnancy): \u001b[35;1m1%\n",
      "\u001b[48;5;254m\u001b[30;1mPhysicalActivity\t \u001b[34;1mYes: \u001b[35;1m76% \u001b[34;1mNo: \u001b[35;1m24%\n",
      "\u001b[37;m\u001b[30;1mGenHealth\t \u001b[34;1mVery good: \u001b[35;1m35% \u001b[34;1mGood: \u001b[35;1m30% \u001b[34;1mExcellent: \u001b[35;1m20% \u001b[34;1mFair: \u001b[35;1m12% \u001b[34;1mPoor: \u001b[35;1m4%\n",
      "\u001b[48;5;254m\u001b[30;1mAsthma\t \u001b[34;1mNo: \u001b[35;1m86% \u001b[34;1mYes: \u001b[35;1m14%\n",
      "\u001b[37;m\u001b[30;1mKidneyDisease\t \u001b[34;1mNo: \u001b[35;1m96% \u001b[34;1mYes: \u001b[35;1m4%\n",
      "\u001b[48;5;254m\u001b[30;1mSkinCancer\t \u001b[34;1mNo: \u001b[35;1m90% \u001b[34;1mYes: \u001b[35;1m10%\n"
     ]
    }
   ],
   "source": [
    "for c, i in enumerate(train.select_dtypes(exclude=['float64'])):    \n",
    "    color = '\\u001b[48;5;254m' if c%2 != 0 else '\\u001b[37;m'\n",
    "    s = color+'\\u001b[30;1m'+str(i) + '\\t'\n",
    "    for j in range(len(train[i].value_counts().keys())):                \n",
    "        s = s +' \\u001b[34;1m'+ str(train[i].value_counts().keys()[j]) +': \\u001b[35;1m'+ str(round(train[i].value_counts(normalize=True)[j]*100)) + '%'\n",
    "    print(s)\n",
    "            "
   ]
  },
  {
   "cell_type": "code",
   "execution_count": 154,
   "metadata": {},
   "outputs": [
    {
     "data": {
      "image/png": "[encoded data removed]",
      "text/plain": [
       "<Figure size 936x432 with 1 Axes>"
      ]
     },
     "metadata": {},
     "output_type": "display_data"
    }
   ],
   "source": [
    "plt.figure(figsize = (13,6))\n",
    "sns.countplot(x = 'AgeCategory', hue = 'HeartDisease', data = train, order = train['AgeCategory'].value_counts().index, palette = [\"#FF604D\",\"#009ABB\"])\n",
    "plt.title('Distribution of heart disease cases by Yes/No based on gender', fontsize=16)\n",
    "plt.show()"
   ]
  },
  {
   "cell_type": "code",
   "execution_count": 157,
   "metadata": {},
   "outputs": [
    {
     "data": {
      "image/png": "[encoded data removed]",
      "text/plain": [
       "<Figure size 936x432 with 1 Axes>"
      ]
     },
     "metadata": {},
     "output_type": "display_data"
    }
   ],
   "source": [
    "plt.figure(figsize = (13,6))\n",
    "sns.countplot(x = 'Race', hue = 'HeartDisease', data = train, palette = [\"#7ADFA9\",\"#5E0229\"])\n",
    "plt.title('Distribution of heart disease cases by Yes/No based on Race', fontsize=16)\n",
    "plt.show()"
   ]
  },
  {
   "cell_type": "code",
   "execution_count": 160,
   "metadata": {},
   "outputs": [
    {
     "data": {
      "image/png": "[encoded data removed]",
      "text/plain": [
       "<Figure size 936x432 with 1 Axes>"
      ]
     },
     "metadata": {},
     "output_type": "display_data"
    }
   ],
   "source": [
    "plt.figure(figsize = (13,6))\n",
    "sns.countplot(x = 'Diabetic', hue = 'HeartDisease', data = train, palette = [\"#FFBF00\",\"#009ABB\"])\n",
    "plt.title('Distribution of heart disease cases by Yes/No based on Diabetic', fontsize=16)\n",
    "plt.show()"
   ]
  },
  {
   "cell_type": "code",
   "execution_count": 176,
   "metadata": {},
   "outputs": [
    {
     "data": {
      "image/png": "[encoded data removed]",
      "text/plain": [
       "<Figure size 936x432 with 1 Axes>"
      ]
     },
     "metadata": {},
     "output_type": "display_data"
    }
   ],
   "source": [
    "plt.figure(figsize = (13,6))\n",
    "sns.countplot(x = 'Race', hue = 'HeartDisease', data = train, palette = [\"#FF604D\",\"#009ABB\"])\n",
    "plt.title('Distribution of heart disease cases by Yes/No based on Race', fontsize=16)\n",
    "plt.show()"
   ]
  },
  {
   "cell_type": "code",
   "execution_count": 210,
   "metadata": {},
   "outputs": [
    {
     "data": {
      "text/plain": [
       "['HeartDisease',\n",
       " 'Smoking',\n",
       " 'AlcoholDrinking',\n",
       " 'Stroke',\n",
       " 'DiffWalking',\n",
       " 'Sex',\n",
       " 'PhysicalActivity',\n",
       " 'Asthma',\n",
       " 'KidneyDisease',\n",
       " 'SkinCancer']"
      ]
     },
     "execution_count": 210,
     "metadata": {},
     "output_type": "execute_result"
    }
   ],
   "source": [
    "labels = [i for i in train.select_dtypes(exclude=['float64']) if len(train[i].value_counts().keys()) <= 2]\n",
    "labels"
   ]
  },
  {
   "cell_type": "code",
   "execution_count": 261,
   "metadata": {
    "scrolled": false
   },
   "outputs": [
    {
     "data": {
      "image/png": "[encoded data removed]",
      "text/plain": [
       "<Figure size 1152x1800 with 12 Axes>"
      ]
     },
     "metadata": {},
     "output_type": "display_data"
    }
   ],
   "source": [
    "fig, axes = plt.subplots(4,3, figsize=(16, 25))\n",
    "\n",
    "for i,t in zip(labels, axes.flatten()):\n",
    "    sns.histplot(x=i, data=train, ax=t, hue=\"HeartDisease\", multiple=\"stack\")\n",
    "    \n",
    "plt.show()"
   ]
  },
  {
   "cell_type": "markdown",
   "metadata": {},
   "source": [
    "<a class=\"anchor\" id=\"chapter6\"></a>  <h2 style='text-align: center'>Data Preparation</h2> "
   ]
  },
  {
   "cell_type": "markdown",
   "metadata": {},
   "source": [
    "#### Remove Outliers <a class=\"anchor\" id=\"section_6_1\"></a>"
   ]
  },
  {
   "cell_type": "code",
   "execution_count": 29,
   "metadata": {
    "execution": {
     "iopub.execute_input": "2022-05-30T16:12:45.775163Z",
     "iopub.status.busy": "2022-05-30T16:12:45.774518Z",
     "iopub.status.idle": "2022-05-30T16:12:45.781187Z",
     "shell.execute_reply": "2022-05-30T16:12:45.780545Z",
     "shell.execute_reply.started": "2022-05-30T16:12:45.775126Z"
    }
   },
   "outputs": [],
   "source": [
    "def remove_outliers(data):\n",
    "    df = data.copy()\n",
    "    # BMI \n",
    "#     lower_limit = abs(df.BMI.mean() - 2* df.BMI.std())\n",
    "#     upper_limit = abs(df.BMI.mean() + 2 * df.BMI.std())\n",
    "#     df = df[(df.BMI >= lower_limit) & (df.BMI < upper_limit)]\n",
    "    \n",
    "    # PHysical Health         \n",
    "    upper_limit = abs(df.PhysicalHealth.mean() +  2 * df.PhysicalHealth.std())\n",
    "    df = df[(df.PhysicalHealth >= 0) & (df.PhysicalHealth <= upper_limit)]\n",
    "    \n",
    "    # Mental Health         \n",
    "    upper_limit = abs(df.MentalHealth.mean() +  2 * df.MentalHealth.std())\n",
    "    df = df[(df.MentalHealth >= 0) & (df.MentalHealth <= upper_limit)]\n",
    "    \n",
    "#     # Sleep TIme\n",
    "#     lower_limit = abs(df.SleepTime.mean() - 3 * df.SleepTime.std())\n",
    "#     upper_limit = abs(df.SleepTime.mean() + 3 * df.SleepTime.std())\n",
    "#     df = df[(df.SleepTime > lower_limit) & (df.SleepTime <= upper_limit)]\n",
    "    return df"
   ]
  },
  {
   "cell_type": "markdown",
   "metadata": {},
   "source": [
    "#### Transform Numerical Data <a class=\"anchor\" id=\"section_6_2\"></a>"
   ]
  },
  {
   "cell_type": "code",
   "execution_count": 30,
   "metadata": {
    "execution": {
     "iopub.execute_input": "2022-05-30T16:12:48.011817Z",
     "iopub.status.busy": "2022-05-30T16:12:48.011078Z",
     "iopub.status.idle": "2022-05-30T16:12:48.01807Z",
     "shell.execute_reply": "2022-05-30T16:12:48.017086Z",
     "shell.execute_reply.started": "2022-05-30T16:12:48.011769Z"
    }
   },
   "outputs": [],
   "source": [
    "def trainform_numerical_data(data):\n",
    "    df = data.copy()\n",
    "    est = KBinsDiscretizer(n_bins=4, encode='ordinal', strategy='uniform')\n",
    "    scaler = StandardScaler()\n",
    "\n",
    "    for i in df.select_dtypes(include=['float64']):    \n",
    "        df[i] = est.fit_transform(df[i].values.reshape(-1, 1)).astype('int64')\n",
    "    return df"
   ]
  },
  {
   "cell_type": "markdown",
   "metadata": {},
   "source": [
    "#### Transform Categorical Data <a class=\"anchor\" id=\"section_6_3\"></a>"
   ]
  },
  {
   "cell_type": "code",
   "execution_count": 31,
   "metadata": {
    "execution": {
     "iopub.execute_input": "2022-05-30T16:12:50.028807Z",
     "iopub.status.busy": "2022-05-30T16:12:50.026896Z",
     "iopub.status.idle": "2022-05-30T16:12:50.034506Z",
     "shell.execute_reply": "2022-05-30T16:12:50.03343Z",
     "shell.execute_reply.started": "2022-05-30T16:12:50.028757Z"
    }
   },
   "outputs": [],
   "source": [
    "def trainform_categorical_data(data):\n",
    "    df = data.copy()\n",
    "    for i in list(df.select_dtypes(include=['object']).columns):\n",
    "        le = LabelEncoder()\n",
    "        df[i] =  le.fit_transform(df[i]).astype('int64')\n",
    "    \n",
    "    more_two_cols = ['AgeCategory', 'Race', 'Diabetic']  \n",
    "    df = pd.get_dummies(df, columns=more_two_cols, drop_first=True)\n",
    "    return df"
   ]
  },
  {
   "cell_type": "code",
   "execution_count": 32,
   "metadata": {
    "execution": {
     "iopub.execute_input": "2022-05-30T16:12:51.134586Z",
     "iopub.status.busy": "2022-05-30T16:12:51.134315Z",
     "iopub.status.idle": "2022-05-30T16:12:51.139335Z",
     "shell.execute_reply": "2022-05-30T16:12:51.138612Z",
     "shell.execute_reply.started": "2022-05-30T16:12:51.134557Z"
    }
   },
   "outputs": [],
   "source": [
    "def data_preparation(data_frame):        \n",
    "    df = 0\n",
    "    df = data_frame.copy()\n",
    "\n",
    "    # remove outliers\n",
    "    df = remove_outliers(df)\n",
    "    \n",
    "    # Transform numarical data\n",
    "    df = trainform_numerical_data(df)\n",
    "    # Transform categorical data\n",
    "    df = trainform_categorical_data(df)    \n",
    "            \n",
    "    return df"
   ]
  },
  {
   "cell_type": "markdown",
   "metadata": {},
   "source": [
    "let's make prepare data for ML model."
   ]
  },
  {
   "cell_type": "code",
   "execution_count": 33,
   "metadata": {
    "execution": {
     "iopub.execute_input": "2022-05-30T16:12:52.931052Z",
     "iopub.status.busy": "2022-05-30T16:12:52.930402Z",
     "iopub.status.idle": "2022-05-30T16:12:55.85202Z",
     "shell.execute_reply": "2022-05-30T16:12:55.851123Z",
     "shell.execute_reply.started": "2022-05-30T16:12:52.931009Z"
    }
   },
   "outputs": [],
   "source": [
    "data = data_preparation(data)\n",
    "train = data_preparation(train)\n",
    "test = data_preparation(test)\n",
    "validation = data_preparation(validation)"
   ]
  },
  {
   "cell_type": "code",
   "execution_count": 34,
   "metadata": {
    "execution": {
     "iopub.execute_input": "2022-05-30T16:12:55.853946Z",
     "iopub.status.busy": "2022-05-30T16:12:55.853703Z",
     "iopub.status.idle": "2022-05-30T16:12:55.882455Z",
     "shell.execute_reply": "2022-05-30T16:12:55.881767Z",
     "shell.execute_reply.started": "2022-05-30T16:12:55.853913Z"
    }
   },
   "outputs": [],
   "source": [
    "X, y = data.loc[:, data.columns != 'HeartDisease'], data['HeartDisease']\n",
    "\n",
    "X_train, y_train = train.loc[:, train.columns != 'HeartDisease'], train['HeartDisease']\n",
    "X_test, y_test = test.loc[:, test.columns != 'HeartDisease'], test['HeartDisease']\n",
    "X_val, y_val = validation.loc[:, validation.columns != 'HeartDisease'], validation['HeartDisease']"
   ]
  },
  {
   "cell_type": "markdown",
   "metadata": {},
   "source": [
    " <a class=\"anchor\" id=\"chapter7\"></a>  <h2 style='text-align: center'>Model Train & Select</h2> "
   ]
  },
  {
   "cell_type": "code",
   "execution_count": 35,
   "metadata": {
    "execution": {
     "iopub.execute_input": "2022-05-30T16:12:55.91449Z",
     "iopub.status.busy": "2022-05-30T16:12:55.914281Z",
     "iopub.status.idle": "2022-05-30T16:12:55.91922Z",
     "shell.execute_reply": "2022-05-30T16:12:55.918433Z",
     "shell.execute_reply.started": "2022-05-30T16:12:55.914465Z"
    }
   },
   "outputs": [],
   "source": [
    "def model_pipe(model, x, y, x_test, y_test):\n",
    "    \n",
    "    pipeline = Pipeline(steps = [            \n",
    "#             ('selector', SelectKBest(chi2, k=34)),\n",
    "            ('classifier', model)              \n",
    "           ])\n",
    "\n",
    "    model = pipeline.fit(x, y)\n",
    "    return model.score(x_test, y_test)    "
   ]
  },
  {
   "cell_type": "markdown",
   "metadata": {},
   "source": [
    "Select five models for training "
   ]
  },
  {
   "cell_type": "code",
   "execution_count": 37,
   "metadata": {
    "execution": {
     "iopub.execute_input": "2022-05-30T16:13:51.458361Z",
     "iopub.status.busy": "2022-05-30T16:13:51.458085Z",
     "iopub.status.idle": "2022-05-30T16:13:51.466459Z",
     "shell.execute_reply": "2022-05-30T16:13:51.465368Z",
     "shell.execute_reply.started": "2022-05-30T16:13:51.458324Z"
    }
   },
   "outputs": [],
   "source": [
    "pipelines = []\n",
    "pipelines.append(('Gradient Boosting Classifier' , (Pipeline([('scaled' , StandardScaler()),('GBC' ,GradientBoostingClassifier())]))))\n",
    "# pipelines.append(('Extreme Gradient Boosting Classifier' , (Pipeline([('scaled' , StandardScaler()),('GBC' ,x.XGBClassifier())]))))\n",
    "pipelines.append(('Random Forest Classifier' , (Pipeline([('scaled' , StandardScaler()),('RFC' ,RandomForestClassifier())]))))\n",
    "pipelines.append(('Logistic Regression' , (Pipeline([('scaled' , StandardScaler()),('LR' ,LogisticRegression())]))))\n",
    "pipelines.append(('Decision Tree Classifier' , (Pipeline([('scaled' , StandardScaler()),('DTC' ,DecisionTreeClassifier())]))))"
   ]
  },
  {
   "cell_type": "code",
   "execution_count": 38,
   "metadata": {
    "execution": {
     "iopub.execute_input": "2022-05-30T16:13:53.90054Z",
     "iopub.status.busy": "2022-05-30T16:13:53.900275Z",
     "iopub.status.idle": "2022-05-30T16:14:45.481422Z",
     "shell.execute_reply": "2022-05-30T16:14:45.48069Z",
     "shell.execute_reply.started": "2022-05-30T16:13:53.90051Z"
    }
   },
   "outputs": [
    {
     "name": "stdout",
     "output_type": "stream",
     "text": [
      "Test On validation set\n",
      "\n",
      "Gradient Boosting Classifier: 92.12\n",
      "Random Forest Classifier: 91.26\n",
      "Logistic Regression: 92.10\n",
      "Decision Tree Classifier: 89.96\n"
     ]
    }
   ],
   "source": [
    "model_name = []\n",
    "results = []\n",
    "print('Test On validation set\\n')\n",
    "for pipe ,model in pipelines:       \n",
    "    print(\"{}: {:.2f}\".format(pipe, model_pipe(model, X_train, y_train, X_val, y_val)*100))"
   ]
  },
  {
   "cell_type": "code",
   "execution_count": null,
   "metadata": {
    "execution": {
     "iopub.execute_input": "2022-05-30T16:16:23.575296Z",
     "iopub.status.busy": "2022-05-30T16:16:23.57457Z",
     "iopub.status.idle": "2022-05-30T16:17:14.994614Z",
     "shell.execute_reply": "2022-05-30T16:17:14.993088Z",
     "shell.execute_reply.started": "2022-05-30T16:16:23.575259Z"
    }
   },
   "outputs": [],
   "source": [
    "model_name = []\n",
    "results = []\n",
    "print('Test on test set\\n')\n",
    "for pipe ,model in pipelines:       \n",
    "    print(\"{}: {:.2f}\".format(pipe, model_pipe(model, X_train, y_train, X_test, y_test)*100))"
   ]
  },
  {
   "cell_type": "markdown",
   "metadata": {},
   "source": [
    "#### Cross-Validation on Selected model <a class=\"anchor\" id=\"section_8_1\"></a>"
   ]
  },
  {
   "cell_type": "code",
   "execution_count": 42,
   "metadata": {
    "execution": {
     "iopub.execute_input": "2022-05-30T12:40:25.51251Z",
     "iopub.status.busy": "2022-05-30T12:40:25.51191Z",
     "iopub.status.idle": "2022-05-30T12:45:24.036238Z",
     "shell.execute_reply": "2022-05-30T12:45:24.035417Z",
     "shell.execute_reply.started": "2022-05-30T12:40:25.512469Z"
    }
   },
   "outputs": [],
   "source": [
    "cv_results = {}\n",
    "for pipe ,model in pipelines: \n",
    "    cv = RepeatedStratifiedKFold(n_splits=4, n_repeats=3, random_state=1)\n",
    "    cv_results[pipe] = cross_val_score(model, X, y, cv=cv, scoring=('accuracy')) * 100"
   ]
  },
  {
   "cell_type": "code",
   "execution_count": 43,
   "metadata": {
    "execution": {
     "iopub.execute_input": "2022-05-30T12:46:37.638322Z",
     "iopub.status.busy": "2022-05-30T12:46:37.638045Z",
     "iopub.status.idle": "2022-05-30T12:46:37.649732Z",
     "shell.execute_reply": "2022-05-30T12:46:37.648473Z",
     "shell.execute_reply.started": "2022-05-30T12:46:37.638294Z"
    }
   },
   "outputs": [
    {
     "data": {
      "text/html": [
       "<div>\n",
       "<style scoped>\n",
       "    .dataframe tbody tr th:only-of-type {\n",
       "        vertical-align: middle;\n",
       "    }\n",
       "\n",
       "    .dataframe tbody tr th {\n",
       "        vertical-align: top;\n",
       "    }\n",
       "\n",
       "    .dataframe thead th {\n",
       "        text-align: right;\n",
       "    }\n",
       "</style>\n",
       "<table border=\"1\" class=\"dataframe\">\n",
       "  <thead>\n",
       "    <tr style=\"text-align: right;\">\n",
       "      <th></th>\n",
       "      <th>Gradient Boosting Classifier</th>\n",
       "      <th>Random Forest Classifier</th>\n",
       "      <th>Logistic Regression</th>\n",
       "      <th>Decision Tree Classifier</th>\n",
       "    </tr>\n",
       "  </thead>\n",
       "  <tbody>\n",
       "    <tr>\n",
       "      <th>0</th>\n",
       "      <td>92.295619</td>\n",
       "      <td>91.526425</td>\n",
       "      <td>92.217923</td>\n",
       "      <td>90.384287</td>\n",
       "    </tr>\n",
       "    <tr>\n",
       "      <th>1</th>\n",
       "      <td>92.329806</td>\n",
       "      <td>91.501562</td>\n",
       "      <td>92.309605</td>\n",
       "      <td>90.463537</td>\n",
       "    </tr>\n",
       "    <tr>\n",
       "      <th>2</th>\n",
       "      <td>92.301835</td>\n",
       "      <td>91.510885</td>\n",
       "      <td>92.241232</td>\n",
       "      <td>90.468199</td>\n",
       "    </tr>\n",
       "    <tr>\n",
       "      <th>3</th>\n",
       "      <td>92.340564</td>\n",
       "      <td>91.499876</td>\n",
       "      <td>92.309485</td>\n",
       "      <td>90.342181</td>\n",
       "    </tr>\n",
       "    <tr>\n",
       "      <th>4</th>\n",
       "      <td>92.336022</td>\n",
       "      <td>91.602567</td>\n",
       "      <td>92.273864</td>\n",
       "      <td>90.455767</td>\n",
       "    </tr>\n",
       "    <tr>\n",
       "      <th>5</th>\n",
       "      <td>92.283188</td>\n",
       "      <td>91.537302</td>\n",
       "      <td>92.221031</td>\n",
       "      <td>90.381179</td>\n",
       "    </tr>\n",
       "    <tr>\n",
       "      <th>6</th>\n",
       "      <td>92.362438</td>\n",
       "      <td>91.476699</td>\n",
       "      <td>92.339129</td>\n",
       "      <td>90.451106</td>\n",
       "    </tr>\n",
       "    <tr>\n",
       "      <th>7</th>\n",
       "      <td>92.345226</td>\n",
       "      <td>91.534063</td>\n",
       "      <td>92.261313</td>\n",
       "      <td>90.315763</td>\n",
       "    </tr>\n",
       "    <tr>\n",
       "      <th>8</th>\n",
       "      <td>92.306497</td>\n",
       "      <td>91.445620</td>\n",
       "      <td>92.269203</td>\n",
       "      <td>90.407596</td>\n",
       "    </tr>\n",
       "    <tr>\n",
       "      <th>9</th>\n",
       "      <td>92.348453</td>\n",
       "      <td>91.492238</td>\n",
       "      <td>92.284742</td>\n",
       "      <td>90.367193</td>\n",
       "    </tr>\n",
       "    <tr>\n",
       "      <th>10</th>\n",
       "      <td>92.300281</td>\n",
       "      <td>91.540410</td>\n",
       "      <td>92.241232</td>\n",
       "      <td>90.447998</td>\n",
       "    </tr>\n",
       "    <tr>\n",
       "      <th>11</th>\n",
       "      <td>92.329687</td>\n",
       "      <td>91.496768</td>\n",
       "      <td>92.298608</td>\n",
       "      <td>90.460281</td>\n",
       "    </tr>\n",
       "  </tbody>\n",
       "</table>\n",
       "</div>"
      ],
      "text/plain": [
       "    Gradient Boosting Classifier  Random Forest Classifier  \\\n",
       "0                      92.295619                 91.526425   \n",
       "1                      92.329806                 91.501562   \n",
       "2                      92.301835                 91.510885   \n",
       "3                      92.340564                 91.499876   \n",
       "4                      92.336022                 91.602567   \n",
       "5                      92.283188                 91.537302   \n",
       "6                      92.362438                 91.476699   \n",
       "7                      92.345226                 91.534063   \n",
       "8                      92.306497                 91.445620   \n",
       "9                      92.348453                 91.492238   \n",
       "10                     92.300281                 91.540410   \n",
       "11                     92.329687                 91.496768   \n",
       "\n",
       "    Logistic Regression  Decision Tree Classifier  \n",
       "0             92.217923                 90.384287  \n",
       "1             92.309605                 90.463537  \n",
       "2             92.241232                 90.468199  \n",
       "3             92.309485                 90.342181  \n",
       "4             92.273864                 90.455767  \n",
       "5             92.221031                 90.381179  \n",
       "6             92.339129                 90.451106  \n",
       "7             92.261313                 90.315763  \n",
       "8             92.269203                 90.407596  \n",
       "9             92.284742                 90.367193  \n",
       "10            92.241232                 90.447998  \n",
       "11            92.298608                 90.460281  "
      ]
     },
     "execution_count": 43,
     "metadata": {},
     "output_type": "execute_result"
    }
   ],
   "source": [
    "pd.DataFrame(cv_results)"
   ]
  },
  {
   "cell_type": "markdown",
   "metadata": {},
   "source": [
    "#### Tune Hyperparameters for Model <a class=\"anchor\" id=\"section_8_2\"></a>"
   ]
  },
  {
   "cell_type": "code",
   "execution_count": 44,
   "metadata": {
    "execution": {
     "iopub.execute_input": "2022-05-30T16:17:14.996792Z",
     "iopub.status.busy": "2022-05-30T16:17:14.996104Z",
     "iopub.status.idle": "2022-05-30T16:17:15.001825Z",
     "shell.execute_reply": "2022-05-30T16:17:15.001033Z",
     "shell.execute_reply.started": "2022-05-30T16:17:14.996754Z"
    }
   },
   "outputs": [],
   "source": [
    "parameters = {\n",
    "    \"n_estimators\":[50,250,32],\n",
    "    \"max_depth\":[1,3],\n",
    "    \"learning_rate\":[0.01,0.1,1,10]\n",
    "}\n",
    "\n",
    "gbc = GradientBoostingClassifier()"
   ]
  },
  {
   "cell_type": "code",
   "execution_count": 45,
   "metadata": {
    "execution": {
     "iopub.execute_input": "2022-05-30T16:17:15.003266Z",
     "iopub.status.busy": "2022-05-30T16:17:15.002971Z",
     "iopub.status.idle": "2022-05-30T16:23:37.589033Z",
     "shell.execute_reply": "2022-05-30T16:23:37.588371Z",
     "shell.execute_reply.started": "2022-05-30T16:17:15.00323Z"
    }
   },
   "outputs": [
    {
     "data": {
      "text/plain": [
       "GridSearchCV(cv=2, estimator=GradientBoostingClassifier(),\n",
       "             param_grid={'learning_rate': [0.01, 0.1, 1, 10],\n",
       "                         'max_depth': [1, 3], 'n_estimators': [50, 250, 32]})"
      ]
     },
     "execution_count": 45,
     "metadata": {},
     "output_type": "execute_result"
    }
   ],
   "source": [
    "cv = GridSearchCV(gbc,parameters,cv=2)\n",
    "cv.fit(X,y)"
   ]
  },
  {
   "cell_type": "markdown",
   "metadata": {},
   "source": []
  },
  {
   "cell_type": "code",
   "execution_count": 46,
   "metadata": {
    "execution": {
     "iopub.execute_input": "2022-05-30T16:23:37.591165Z",
     "iopub.status.busy": "2022-05-30T16:23:37.590844Z",
     "iopub.status.idle": "2022-05-30T16:23:37.596494Z",
     "shell.execute_reply": "2022-05-30T16:23:37.595498Z",
     "shell.execute_reply.started": "2022-05-30T16:23:37.591127Z"
    }
   },
   "outputs": [],
   "source": [
    "def display(results):\n",
    "    print(f'Best parameters are: {results.best_params_}')\n",
    "    print(\"\\n\")\n",
    "    mean_score = results.cv_results_['mean_test_score']\n",
    "    std_score = results.cv_results_['std_test_score']\n",
    "    params = results.cv_results_['params']\n",
    "    for mean,std,params in zip(mean_score,std_score,params):\n",
    "        print(f'{round(mean,3)} + or -{round(std,3)} for the {params}')"
   ]
  },
  {
   "cell_type": "code",
   "execution_count": 47,
   "metadata": {
    "execution": {
     "iopub.execute_input": "2022-05-30T16:23:37.59839Z",
     "iopub.status.busy": "2022-05-30T16:23:37.597915Z",
     "iopub.status.idle": "2022-05-30T16:23:37.611974Z",
     "shell.execute_reply": "2022-05-30T16:23:37.611299Z",
     "shell.execute_reply.started": "2022-05-30T16:23:37.598325Z"
    }
   },
   "outputs": [
    {
     "name": "stdout",
     "output_type": "stream",
     "text": [
      "Best parameters are: {'learning_rate': 0.1, 'max_depth': 3, 'n_estimators': 250}\n",
      "\n",
      "\n",
      "0.923 + or -0.0 for the {'learning_rate': 0.01, 'max_depth': 1, 'n_estimators': 50}\n",
      "0.923 + or -0.0 for the {'learning_rate': 0.01, 'max_depth': 1, 'n_estimators': 250}\n",
      "0.923 + or -0.0 for the {'learning_rate': 0.01, 'max_depth': 1, 'n_estimators': 32}\n",
      "0.923 + or -0.0 for the {'learning_rate': 0.01, 'max_depth': 3, 'n_estimators': 50}\n",
      "0.923 + or -0.0 for the {'learning_rate': 0.01, 'max_depth': 3, 'n_estimators': 250}\n",
      "0.923 + or -0.0 for the {'learning_rate': 0.01, 'max_depth': 3, 'n_estimators': 32}\n",
      "0.923 + or -0.0 for the {'learning_rate': 0.1, 'max_depth': 1, 'n_estimators': 50}\n",
      "0.923 + or -0.0 for the {'learning_rate': 0.1, 'max_depth': 1, 'n_estimators': 250}\n",
      "0.923 + or -0.0 for the {'learning_rate': 0.1, 'max_depth': 1, 'n_estimators': 32}\n",
      "0.923 + or -0.0 for the {'learning_rate': 0.1, 'max_depth': 3, 'n_estimators': 50}\n",
      "0.923 + or -0.0 for the {'learning_rate': 0.1, 'max_depth': 3, 'n_estimators': 250}\n",
      "0.923 + or -0.0 for the {'learning_rate': 0.1, 'max_depth': 3, 'n_estimators': 32}\n",
      "0.923 + or -0.0 for the {'learning_rate': 1, 'max_depth': 1, 'n_estimators': 50}\n",
      "0.923 + or -0.0 for the {'learning_rate': 1, 'max_depth': 1, 'n_estimators': 250}\n",
      "0.923 + or -0.0 for the {'learning_rate': 1, 'max_depth': 1, 'n_estimators': 32}\n",
      "0.922 + or -0.0 for the {'learning_rate': 1, 'max_depth': 3, 'n_estimators': 50}\n",
      "0.922 + or -0.0 for the {'learning_rate': 1, 'max_depth': 3, 'n_estimators': 250}\n",
      "0.922 + or -0.0 for the {'learning_rate': 1, 'max_depth': 3, 'n_estimators': 32}\n",
      "0.923 + or -0.0 for the {'learning_rate': 10, 'max_depth': 1, 'n_estimators': 50}\n",
      "0.923 + or -0.0 for the {'learning_rate': 10, 'max_depth': 1, 'n_estimators': 250}\n",
      "0.923 + or -0.0 for the {'learning_rate': 10, 'max_depth': 1, 'n_estimators': 32}\n",
      "0.199 + or -0.005 for the {'learning_rate': 10, 'max_depth': 3, 'n_estimators': 50}\n",
      "0.199 + or -0.005 for the {'learning_rate': 10, 'max_depth': 3, 'n_estimators': 250}\n",
      "0.199 + or -0.005 for the {'learning_rate': 10, 'max_depth': 3, 'n_estimators': 32}\n"
     ]
    }
   ],
   "source": [
    "display(cv)"
   ]
  },
  {
   "cell_type": "code",
   "execution_count": 48,
   "metadata": {
    "execution": {
     "iopub.execute_input": "2022-05-30T16:54:41.537921Z",
     "iopub.status.busy": "2022-05-30T16:54:41.537514Z",
     "iopub.status.idle": "2022-05-30T16:54:41.596102Z",
     "shell.execute_reply": "2022-05-30T16:54:41.595281Z",
     "shell.execute_reply.started": "2022-05-30T16:54:41.537887Z"
    }
   },
   "outputs": [
    {
     "data": {
      "text/plain": [
       "92.40525938692124"
      ]
     },
     "execution_count": 48,
     "metadata": {},
     "output_type": "execute_result"
    }
   ],
   "source": [
    "cv.score(X_test, y_test) * 100"
   ]
  },
  {
   "cell_type": "markdown",
   "metadata": {},
   "source": [
    "Probability predictions"
   ]
  },
  {
   "cell_type": "code",
   "execution_count": 64,
   "metadata": {
    "execution": {
     "iopub.execute_input": "2022-05-30T16:23:37.785723Z",
     "iopub.status.busy": "2022-05-30T16:23:37.785465Z",
     "iopub.status.idle": "2022-05-30T16:23:37.837546Z",
     "shell.execute_reply": "2022-05-30T16:23:37.836789Z",
     "shell.execute_reply.started": "2022-05-30T16:23:37.785686Z"
    }
   },
   "outputs": [],
   "source": [
    "y_pred = cv.predict_proba(X_test)"
   ]
  },
  {
   "cell_type": "code",
   "execution_count": 65,
   "metadata": {
    "execution": {
     "iopub.execute_input": "2022-05-30T15:46:41.00189Z",
     "iopub.status.busy": "2022-05-30T15:46:41.001499Z",
     "iopub.status.idle": "2022-05-30T15:46:41.008358Z",
     "shell.execute_reply": "2022-05-30T15:46:41.007545Z",
     "shell.execute_reply.started": "2022-05-30T15:46:41.001856Z"
    }
   },
   "outputs": [
    {
     "data": {
      "text/html": [
       "<div>\n",
       "<style scoped>\n",
       "    .dataframe tbody tr th:only-of-type {\n",
       "        vertical-align: middle;\n",
       "    }\n",
       "\n",
       "    .dataframe tbody tr th {\n",
       "        vertical-align: top;\n",
       "    }\n",
       "\n",
       "    .dataframe thead th {\n",
       "        text-align: right;\n",
       "    }\n",
       "</style>\n",
       "<table border=\"1\" class=\"dataframe\">\n",
       "  <thead>\n",
       "    <tr style=\"text-align: right;\">\n",
       "      <th></th>\n",
       "      <th>0</th>\n",
       "      <th>1</th>\n",
       "    </tr>\n",
       "  </thead>\n",
       "  <tbody>\n",
       "    <tr>\n",
       "      <th>0</th>\n",
       "      <td>98.069637</td>\n",
       "      <td>1.930363</td>\n",
       "    </tr>\n",
       "    <tr>\n",
       "      <th>1</th>\n",
       "      <td>96.788162</td>\n",
       "      <td>3.211838</td>\n",
       "    </tr>\n",
       "    <tr>\n",
       "      <th>2</th>\n",
       "      <td>97.960704</td>\n",
       "      <td>2.039296</td>\n",
       "    </tr>\n",
       "    <tr>\n",
       "      <th>3</th>\n",
       "      <td>95.346176</td>\n",
       "      <td>4.653824</td>\n",
       "    </tr>\n",
       "    <tr>\n",
       "      <th>4</th>\n",
       "      <td>91.523677</td>\n",
       "      <td>8.476323</td>\n",
       "    </tr>\n",
       "    <tr>\n",
       "      <th>5</th>\n",
       "      <td>88.109353</td>\n",
       "      <td>11.890647</td>\n",
       "    </tr>\n",
       "    <tr>\n",
       "      <th>6</th>\n",
       "      <td>69.704825</td>\n",
       "      <td>30.295175</td>\n",
       "    </tr>\n",
       "    <tr>\n",
       "      <th>7</th>\n",
       "      <td>88.393063</td>\n",
       "      <td>11.606937</td>\n",
       "    </tr>\n",
       "    <tr>\n",
       "      <th>8</th>\n",
       "      <td>94.630820</td>\n",
       "      <td>5.369180</td>\n",
       "    </tr>\n",
       "    <tr>\n",
       "      <th>9</th>\n",
       "      <td>95.837126</td>\n",
       "      <td>4.162874</td>\n",
       "    </tr>\n",
       "    <tr>\n",
       "      <th>10</th>\n",
       "      <td>70.947726</td>\n",
       "      <td>29.052274</td>\n",
       "    </tr>\n",
       "    <tr>\n",
       "      <th>11</th>\n",
       "      <td>99.172287</td>\n",
       "      <td>0.827713</td>\n",
       "    </tr>\n",
       "    <tr>\n",
       "      <th>12</th>\n",
       "      <td>98.524727</td>\n",
       "      <td>1.475273</td>\n",
       "    </tr>\n",
       "    <tr>\n",
       "      <th>13</th>\n",
       "      <td>99.317780</td>\n",
       "      <td>0.682220</td>\n",
       "    </tr>\n",
       "    <tr>\n",
       "      <th>14</th>\n",
       "      <td>91.342098</td>\n",
       "      <td>8.657902</td>\n",
       "    </tr>\n",
       "  </tbody>\n",
       "</table>\n",
       "</div>"
      ],
      "text/plain": [
       "            0          1\n",
       "0   98.069637   1.930363\n",
       "1   96.788162   3.211838\n",
       "2   97.960704   2.039296\n",
       "3   95.346176   4.653824\n",
       "4   91.523677   8.476323\n",
       "5   88.109353  11.890647\n",
       "6   69.704825  30.295175\n",
       "7   88.393063  11.606937\n",
       "8   94.630820   5.369180\n",
       "9   95.837126   4.162874\n",
       "10  70.947726  29.052274\n",
       "11  99.172287   0.827713\n",
       "12  98.524727   1.475273\n",
       "13  99.317780   0.682220\n",
       "14  91.342098   8.657902"
      ]
     },
     "execution_count": 65,
     "metadata": {},
     "output_type": "execute_result"
    }
   ],
   "source": [
    "pd.DataFrame(y_pred[:15]*100)"
   ]
  },
  {
   "cell_type": "code",
   "execution_count": 66,
   "metadata": {
    "execution": {
     "iopub.execute_input": "2022-05-30T15:46:50.25504Z",
     "iopub.status.busy": "2022-05-30T15:46:50.254491Z",
     "iopub.status.idle": "2022-05-30T15:46:50.261407Z",
     "shell.execute_reply": "2022-05-30T15:46:50.260655Z",
     "shell.execute_reply.started": "2022-05-30T15:46:50.255003Z"
    }
   },
   "outputs": [
    {
     "data": {
      "text/plain": [
       "96327     0\n",
       "257121    0\n",
       "252261    0\n",
       "298148    0\n",
       "228875    0\n",
       "144214    0\n",
       "107034    1\n",
       "49574     1\n",
       "87335     0\n",
       "51309     0\n",
       "23863     0\n",
       "231115    0\n",
       "45641     0\n",
       "288322    0\n",
       "123165    0\n",
       "Name: HeartDisease, dtype: int64"
      ]
     },
     "execution_count": 66,
     "metadata": {},
     "output_type": "execute_result"
    }
   ],
   "source": [
    "y_test.head(15)"
   ]
  },
  {
   "cell_type": "markdown",
   "metadata": {},
   "source": [
    "<a class=\"anchor\" id=\"chapter9\"></a>  <h2 style='text-align: center'>Model Save</h2> "
   ]
  },
  {
   "cell_type": "code",
   "execution_count": 262,
   "metadata": {},
   "outputs": [],
   "source": [
    "import pickle"
   ]
  },
  {
   "cell_type": "code",
   "execution_count": 263,
   "metadata": {
    "collapsed": true
   },
   "outputs": [
    {
     "ename": "NameError",
     "evalue": "name 'cv' is not defined",
     "output_type": "error",
     "traceback": [
      "\u001b[1;31m---------------------------------------------------------------------------\u001b[0m",
      "\u001b[1;31mNameError\u001b[0m                                 Traceback (most recent call last)",
      "Input \u001b[1;32mIn [263]\u001b[0m, in \u001b[0;36m<cell line: 2>\u001b[1;34m()\u001b[0m\n\u001b[0;32m      1\u001b[0m filename \u001b[38;5;241m=\u001b[39m \u001b[38;5;124m'\u001b[39m\u001b[38;5;124mheart_disease_model.sav\u001b[39m\u001b[38;5;124m'\u001b[39m\n\u001b[1;32m----> 2\u001b[0m pickle\u001b[38;5;241m.\u001b[39mdump(\u001b[43mcv\u001b[49m, \u001b[38;5;28mopen\u001b[39m(filename, \u001b[38;5;124m'\u001b[39m\u001b[38;5;124mwb\u001b[39m\u001b[38;5;124m'\u001b[39m))\n",
      "\u001b[1;31mNameError\u001b[0m: name 'cv' is not defined"
     ]
    }
   ],
   "source": [
    "filename = 'heart_disease_model.sav'\n",
    "pickle.dump(cv, open(filename, 'wb'))"
   ]
  },
  {
   "cell_type": "markdown",
   "metadata": {},
   "source": [
    "Model Load"
   ]
  },
  {
   "cell_type": "code",
   "execution_count": 264,
   "metadata": {},
   "outputs": [
    {
     "ename": "FileNotFoundError",
     "evalue": "[Errno 2] No such file or directory: 'heart_disease_model.sav'",
     "output_type": "error",
     "traceback": [
      "\u001b[1;31m---------------------------------------------------------------------------\u001b[0m",
      "\u001b[1;31mFileNotFoundError\u001b[0m                         Traceback (most recent call last)",
      "Input \u001b[1;32mIn [264]\u001b[0m, in \u001b[0;36m<cell line: 1>\u001b[1;34m()\u001b[0m\n\u001b[1;32m----> 1\u001b[0m loaded_model \u001b[38;5;241m=\u001b[39m pickle\u001b[38;5;241m.\u001b[39mload(\u001b[38;5;28;43mopen\u001b[39;49m\u001b[43m(\u001b[49m\u001b[43mfilename\u001b[49m\u001b[43m,\u001b[49m\u001b[43m \u001b[49m\u001b[38;5;124;43m'\u001b[39;49m\u001b[38;5;124;43mrb\u001b[39;49m\u001b[38;5;124;43m'\u001b[39;49m\u001b[43m)\u001b[49m)\n\u001b[0;32m      2\u001b[0m result \u001b[38;5;241m=\u001b[39m loaded_model\u001b[38;5;241m.\u001b[39mscore(X_test, y_test)\n\u001b[0;32m      3\u001b[0m \u001b[38;5;28mprint\u001b[39m(result)\n",
      "\u001b[1;31mFileNotFoundError\u001b[0m: [Errno 2] No such file or directory: 'heart_disease_model.sav'"
     ]
    }
   ],
   "source": [
    "loaded_model = pickle.load(open(filename, 'rb'))\n",
    "result = loaded_model.score(X_test, y_test)\n",
    "print(result)"
   ]
  },
  {
   "cell_type": "code",
   "execution_count": 84,
   "metadata": {},
   "outputs": [],
   "source": [
    "pred = loaded_model.predict_proba(X_test[:1])"
   ]
  },
  {
   "cell_type": "code",
   "execution_count": 108,
   "metadata": {},
   "outputs": [
    {
     "data": {
      "text/plain": [
       "array([[0.98069637, 0.01930363]])"
      ]
     },
     "execution_count": 108,
     "metadata": {},
     "output_type": "execute_result"
    }
   ],
   "source": [
    "pred"
   ]
  },
  {
   "cell_type": "code",
   "execution_count": null,
   "metadata": {},
   "outputs": [],
   "source": []
  }
 ],
 "metadata": {
  "interpreter": {
   "hash": "7ac5d481481f887f647332fd8ffe1c81eabc25825f640bff5f0bfef7882ab666"
  },
  "kernelspec": {
   "display_name": "Python 3 (ipykernel)",
   "language": "python",
   "name": "python3"
  },
  "language_info": {
   "codemirror_mode": {
    "name": "ipython",
    "version": 3
   },
   "file_extension": ".py",
   "mimetype": "text/x-python",
   "name": "python",
   "nbconvert_exporter": "python",
   "pygments_lexer": "ipython3",
   "version": "3.9.12"
  }
 },
 "nbformat": 4,
 "nbformat_minor": 4
}
